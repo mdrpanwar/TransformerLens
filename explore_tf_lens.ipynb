{
 "cells": [
  {
   "cell_type": "markdown",
   "metadata": {},
   "source": [
    "Setup\n",
    "\n",
    "`pip install transformer_lens einops pytorch jax matplotlib transformers` # and any other library you might need\n"
   ]
  },
  {
   "cell_type": "code",
   "execution_count": 1,
   "metadata": {},
   "outputs": [],
   "source": [
    "from typing import List, Optional, Tuple, Union\n",
    "import numpy as np\n",
    "import pandas as pd\n",
    "import matplotlib.pyplot as plt\n",
    "import torch as t\n",
    "from torch import Tensor\n",
    "import einops\n",
    "from pprint import pprint as pp\n",
    "from tqdm import tqdm\n",
    "import circuitsvis as cv\n",
    "from transformers import LlamaForCausalLM, LlamaTokenizer\n",
    "t.set_grad_enabled(False)\n",
    "from jaxtyping import Float, Int\n",
    "import sys\n",
    "# sys.path.append(\"../..\")\n",
    "# sys.path.append(\"..\")\n"
   ]
  },
  {
   "cell_type": "code",
   "execution_count": 2,
   "metadata": {},
   "outputs": [
    {
     "name": "stdout",
     "output_type": "stream",
     "text": [
      "Using device: cuda:0\n",
      "Device name: NVIDIA A100 80GB PCIe\n"
     ]
    }
   ],
   "source": [
    "device = t.device(\"cuda:0\" if t.cuda.is_available() else \"cpu\")\n",
    "print(f\"Using device: {device}\")\n",
    "print(f\"Device name: {t.cuda.get_device_name(device)}\")"
   ]
  },
  {
   "cell_type": "code",
   "execution_count": 3,
   "metadata": {},
   "outputs": [
    {
     "ename": "ImportError",
     "evalue": "cannot import name 'get_model_from_checkpoint_path' from 'interp_utils' (/datadrive/madhur/mech_interp/TransformerLens/interp_utils.py)",
     "output_type": "error",
     "traceback": [
      "\u001b[0;31m---------------------------------------------------------------------------\u001b[0m",
      "\u001b[0;31mImportError\u001b[0m                               Traceback (most recent call last)",
      "Cell \u001b[0;32mIn[3], line 3\u001b[0m\n\u001b[1;32m      1\u001b[0m get_ipython()\u001b[38;5;241m.\u001b[39mrun_line_magic(\u001b[38;5;124m'\u001b[39m\u001b[38;5;124mload_ext\u001b[39m\u001b[38;5;124m'\u001b[39m, \u001b[38;5;124m'\u001b[39m\u001b[38;5;124mautoreload\u001b[39m\u001b[38;5;124m'\u001b[39m)\n\u001b[1;32m      2\u001b[0m get_ipython()\u001b[38;5;241m.\u001b[39mrun_line_magic(\u001b[38;5;124m'\u001b[39m\u001b[38;5;124mautoreload\u001b[39m\u001b[38;5;124m'\u001b[39m, \u001b[38;5;124m'\u001b[39m\u001b[38;5;124m2\u001b[39m\u001b[38;5;124m'\u001b[39m)\n\u001b[0;32m----> 3\u001b[0m \u001b[38;5;28;01mfrom\u001b[39;00m \u001b[38;5;21;01minterp_utils\u001b[39;00m \u001b[38;5;28;01mimport\u001b[39;00m (\n\u001b[1;32m      4\u001b[0m     load_hooked_gpt2,\n\u001b[1;32m      5\u001b[0m     plot_heatmap,\n\u001b[1;32m      6\u001b[0m     pp_config,\n\u001b[1;32m      7\u001b[0m     get_model_from_checkpoint_path,\n\u001b[1;32m      8\u001b[0m )\n",
      "\u001b[0;31mImportError\u001b[0m: cannot import name 'get_model_from_checkpoint_path' from 'interp_utils' (/datadrive/madhur/mech_interp/TransformerLens/interp_utils.py)"
     ]
    }
   ],
   "source": [
    "%load_ext autoreload\n",
    "%autoreload 2\n",
    "from interp_utils import (\n",
    "    load_hooked_gpt2,\n",
    "    plot_heatmap,\n",
    "    pp_config,\n",
    "    get_model_from_checkpoint_path,\n",
    ")"
   ]
  },
  {
   "cell_type": "code",
   "execution_count": 21,
   "metadata": {},
   "outputs": [
    {
     "name": "stdout",
     "output_type": "stream",
     "text": [
      "Loaded model's vocab size: 54\n",
      "Loaded pretrained model gpt2 into HookedTransformer\n",
      "Moving model to device:  cuda\n",
      "Successfully loaded hooked gpt2 model.\n"
     ]
    }
   ],
   "source": [
    "from_pretrained_kwargs={\n",
    "        \"vocab_size\": 54,\n",
    "        \"n_layer\": 2,\n",
    "        \"n_embd\": 128,\n",
    "        # \"n_ctx\": 40,\n",
    "        \"n_head\": 2,\n",
    "        \"bos_token_id\": 1, #tokenizer.bos_token_id, \n",
    "        \"eos_token_id\": 2, #tokenizer.eos_token_id,\n",
    "        \"pad_token_id\": 3, #tokenizer.pad_token_id,\n",
    "        # \"act_fn\": \"gelu_new\",\n",
    "        # \"# tokenizer_name\": \"gpt2\",\n",
    "        # \"device\": device,\n",
    "        # \"seed\": 762568\n",
    "    }\n",
    "\n",
    "ckpt_path = \"/datadrive/madhur/world-models/src/training_outputs/FromSingularity/1cd24e9d-9a34-4da0-987e-527619b49ec8\"\n",
    "# ckpt_path = \"/datadrive/madhur/world-models/src/training_outputs/cc0f50da-c754-4a08-8269-ac0f2e31f3bf\"\n",
    "model, tokenizer = load_hooked_gpt2(ckpt_path, device, from_pretrained_kwargs)"
   ]
  },
  {
   "cell_type": "code",
   "execution_count": 5,
   "metadata": {},
   "outputs": [
    {
     "name": "stdout",
     "output_type": "stream",
     "text": [
      "The autoreload extension is already loaded. To reload it, use:\n",
      "  %reload_ext autoreload\n"
     ]
    }
   ],
   "source": [
    "%load_ext autoreload\n",
    "%autoreload 2\n",
    "from transformer_lens import (\n",
    "    utils,\n",
    "    HookedTransformer,\n",
    "    HookedTransformerConfig,\n",
    "    FactoredMatrix,\n",
    "    ActivationCache,\n",
    ")\n",
    "from transformer_lens.hook_points import HookPoint\n",
    "from transformer_lens.utils import to_numpy"
   ]
  },
  {
   "cell_type": "code",
   "execution_count": 6,
   "metadata": {},
   "outputs": [
    {
     "ename": "NameError",
     "evalue": "name 'hf_model' is not defined",
     "output_type": "error",
     "traceback": [
      "\u001b[0;31m---------------------------------------------------------------------------\u001b[0m",
      "\u001b[0;31mNameError\u001b[0m                                 Traceback (most recent call last)",
      "Cell \u001b[0;32mIn[6], line 1\u001b[0m\n\u001b[0;32m----> 1\u001b[0m \u001b[43mhf_model\u001b[49m\u001b[38;5;241m.\u001b[39mstate_dict()\u001b[38;5;241m.\u001b[39mkeys()\n",
      "\u001b[0;31mNameError\u001b[0m: name 'hf_model' is not defined"
     ]
    }
   ],
   "source": [
    "hf_model.state_dict().keys()"
   ]
  },
  {
   "cell_type": "code",
   "execution_count": 6,
   "metadata": {},
   "outputs": [
    {
     "data": {
      "text/plain": [
       "odict_keys(['embed.W_E', 'pos_embed.W_pos', 'blocks.0.ln1.w', 'blocks.0.ln1.b', 'blocks.0.ln2.w', 'blocks.0.ln2.b', 'blocks.0.attn.W_Q', 'blocks.0.attn.W_K', 'blocks.0.attn.W_V', 'blocks.0.attn.W_O', 'blocks.0.attn.b_Q', 'blocks.0.attn.b_K', 'blocks.0.attn.b_V', 'blocks.0.attn.b_O', 'blocks.0.attn.mask', 'blocks.0.attn.IGNORE', 'blocks.0.mlp.W_in', 'blocks.0.mlp.b_in', 'blocks.0.mlp.W_out', 'blocks.0.mlp.b_out', 'blocks.1.ln1.w', 'blocks.1.ln1.b', 'blocks.1.ln2.w', 'blocks.1.ln2.b', 'blocks.1.attn.W_Q', 'blocks.1.attn.W_K', 'blocks.1.attn.W_V', 'blocks.1.attn.W_O', 'blocks.1.attn.b_Q', 'blocks.1.attn.b_K', 'blocks.1.attn.b_V', 'blocks.1.attn.b_O', 'blocks.1.attn.mask', 'blocks.1.attn.IGNORE', 'blocks.1.mlp.W_in', 'blocks.1.mlp.b_in', 'blocks.1.mlp.W_out', 'blocks.1.mlp.b_out', 'ln_final.w', 'ln_final.b', 'unembed.W_U', 'unembed.b_U'])"
      ]
     },
     "execution_count": 6,
     "metadata": {},
     "output_type": "execute_result"
    }
   ],
   "source": [
    "model.state_dict().keys()"
   ]
  },
  {
   "cell_type": "markdown",
   "metadata": {},
   "source": [
    "## Model Details"
   ]
  },
  {
   "cell_type": "code",
   "execution_count": 7,
   "metadata": {},
   "outputs": [
    {
     "data": {
      "text/plain": [
       "HookedTransformer(\n",
       "  (embed): Embed()\n",
       "  (hook_embed): HookPoint()\n",
       "  (pos_embed): PosEmbed()\n",
       "  (hook_pos_embed): HookPoint()\n",
       "  (blocks): ModuleList(\n",
       "    (0): TransformerBlock(\n",
       "      (ln1): LayerNorm(\n",
       "        (hook_scale): HookPoint()\n",
       "        (hook_normalized): HookPoint()\n",
       "      )\n",
       "      (ln2): LayerNorm(\n",
       "        (hook_scale): HookPoint()\n",
       "        (hook_normalized): HookPoint()\n",
       "      )\n",
       "      (attn): Attention(\n",
       "        (hook_k): HookPoint()\n",
       "        (hook_q): HookPoint()\n",
       "        (hook_v): HookPoint()\n",
       "        (hook_z): HookPoint()\n",
       "        (hook_attn_scores): HookPoint()\n",
       "        (hook_pattern): HookPoint()\n",
       "        (hook_result): HookPoint()\n",
       "      )\n",
       "      (mlp): MLP(\n",
       "        (hook_pre): HookPoint()\n",
       "        (hook_post): HookPoint()\n",
       "      )\n",
       "      (hook_attn_in): HookPoint()\n",
       "      (hook_q_input): HookPoint()\n",
       "      (hook_k_input): HookPoint()\n",
       "      (hook_v_input): HookPoint()\n",
       "      (hook_mlp_in): HookPoint()\n",
       "      (hook_attn_out): HookPoint()\n",
       "      (hook_mlp_out): HookPoint()\n",
       "      (hook_resid_pre): HookPoint()\n",
       "      (hook_resid_mid): HookPoint()\n",
       "      (hook_resid_post): HookPoint()\n",
       "    )\n",
       "    (1): TransformerBlock(\n",
       "      (ln1): LayerNorm(\n",
       "        (hook_scale): HookPoint()\n",
       "        (hook_normalized): HookPoint()\n",
       "      )\n",
       "      (ln2): LayerNorm(\n",
       "        (hook_scale): HookPoint()\n",
       "        (hook_normalized): HookPoint()\n",
       "      )\n",
       "      (attn): Attention(\n",
       "        (hook_k): HookPoint()\n",
       "        (hook_q): HookPoint()\n",
       "        (hook_v): HookPoint()\n",
       "        (hook_z): HookPoint()\n",
       "        (hook_attn_scores): HookPoint()\n",
       "        (hook_pattern): HookPoint()\n",
       "        (hook_result): HookPoint()\n",
       "      )\n",
       "      (mlp): MLP(\n",
       "        (hook_pre): HookPoint()\n",
       "        (hook_post): HookPoint()\n",
       "      )\n",
       "      (hook_attn_in): HookPoint()\n",
       "      (hook_q_input): HookPoint()\n",
       "      (hook_k_input): HookPoint()\n",
       "      (hook_v_input): HookPoint()\n",
       "      (hook_mlp_in): HookPoint()\n",
       "      (hook_attn_out): HookPoint()\n",
       "      (hook_mlp_out): HookPoint()\n",
       "      (hook_resid_pre): HookPoint()\n",
       "      (hook_resid_mid): HookPoint()\n",
       "      (hook_resid_post): HookPoint()\n",
       "    )\n",
       "  )\n",
       "  (ln_final): LayerNorm(\n",
       "    (hook_scale): HookPoint()\n",
       "    (hook_normalized): HookPoint()\n",
       "  )\n",
       "  (unembed): Unembed()\n",
       ")"
      ]
     },
     "execution_count": 7,
     "metadata": {},
     "output_type": "execute_result"
    }
   ],
   "source": [
    "model"
   ]
  },
  {
   "cell_type": "code",
   "execution_count": 8,
   "metadata": {},
   "outputs": [
    {
     "name": "stdout",
     "output_type": "stream",
     "text": [
      "                 attention_dir\t: causal\n",
      "                     attn_only\t: False\n",
      "                    attn_types\t: None\n",
      "                        d_head\t: 128\n",
      "                         d_mlp\t: 512\n",
      "                       d_model\t: 128\n",
      "                       d_vocab\t: 54\n",
      "                   d_vocab_out\t: 54\n",
      "           default_prepend_bos\t: True\n",
      "                     gated_mlp\t: False\n",
      "                         n_ctx\t: 1024\n",
      "                     n_devices\t: 1\n",
      "                       n_heads\t: 1\n",
      "                      n_layers\t: 2\n",
      "                      n_params\t: 393216\n",
      "            normalization_type\t: LN\n",
      "             parallel_attn_mlp\t: False\n",
      "scale_attn_by_inverse_layer_idx\t: False\n",
      "                   use_attn_in\t: False\n",
      "               use_attn_result\t: False\n",
      "                use_attn_scale\t: True\n"
     ]
    }
   ],
   "source": [
    "pp_config(model)"
   ]
  },
  {
   "cell_type": "code",
   "execution_count": 9,
   "metadata": {},
   "outputs": [
    {
     "data": {
      "text/plain": [
       "(torch.Size([2, 1, 128, 128]),\n",
       " torch.Size([2, 1, 128, 128]),\n",
       " torch.Size([2, 1, 128, 128]),\n",
       " torch.Size([2, 1, 128, 128]))"
      ]
     },
     "execution_count": 9,
     "metadata": {},
     "output_type": "execute_result"
    }
   ],
   "source": [
    "model.W_Q.shape, model.W_K.shape, model.W_V.shape, model.W_O.shape"
   ]
  },
  {
   "cell_type": "markdown",
   "metadata": {},
   "source": [
    "## Model run"
   ]
  },
  {
   "cell_type": "code",
   "execution_count": 13,
   "metadata": {},
   "outputs": [],
   "source": [
    "text = \"P9 has O15, O14, O29. P6 has O24, O6, O20. P2 has O7, O5. Who has object O7? Answer: P2.\"\n",
    "tokens = model.to_tokens(text)\n",
    "str_tokens = model.to_str_tokens(text)\n",
    "logits, cache = model.run_with_cache(tokens, remove_batch_dim=True)"
   ]
  },
  {
   "cell_type": "code",
   "execution_count": 12,
   "metadata": {},
   "outputs": [
    {
     "data": {
      "text/plain": [
       "tensor([[ 1, 23,  5, 28,  6, 31,  6, 42,  4, 21,  5, 41,  6, 34,  6, 25,  4, 15,\n",
       "          5, 37,  6, 53,  4, 10,  5, 11, 37,  8,  9,  7, 15,  4]],\n",
       "       device='cuda:0')"
      ]
     },
     "execution_count": 12,
     "metadata": {},
     "output_type": "execute_result"
    }
   ],
   "source": [
    "tokens"
   ]
  },
  {
   "cell_type": "code",
   "execution_count": 13,
   "metadata": {},
   "outputs": [
    {
     "data": {
      "text/plain": [
       "['<|startoftext|>',\n",
       " 'P9',\n",
       " 'has',\n",
       " 'O15',\n",
       " ',',\n",
       " 'O14',\n",
       " ',',\n",
       " 'O29',\n",
       " '.',\n",
       " 'P6',\n",
       " 'has',\n",
       " 'O24',\n",
       " ',',\n",
       " 'O6',\n",
       " ',',\n",
       " 'O20',\n",
       " '.',\n",
       " 'P2',\n",
       " 'has',\n",
       " 'O7',\n",
       " ',',\n",
       " 'O5',\n",
       " '.',\n",
       " 'Who',\n",
       " 'has',\n",
       " 'object',\n",
       " 'O7',\n",
       " '?',\n",
       " 'Answer',\n",
       " ':',\n",
       " 'P2',\n",
       " '.']"
      ]
     },
     "execution_count": 13,
     "metadata": {},
     "output_type": "execute_result"
    }
   ],
   "source": [
    "str_tokens"
   ]
  },
  {
   "cell_type": "code",
   "execution_count": 14,
   "metadata": {},
   "outputs": [
    {
     "data": {
      "text/plain": [
       "transformer_lens.HookedTransformer.HookedTransformer"
      ]
     },
     "execution_count": 14,
     "metadata": {},
     "output_type": "execute_result"
    }
   ],
   "source": [
    "type(model)"
   ]
  },
  {
   "cell_type": "code",
   "execution_count": 15,
   "metadata": {},
   "outputs": [
    {
     "data": {
      "text/plain": [
       "(torch.Size([1, 32, 54]), torch.Size([1, 32]))"
      ]
     },
     "execution_count": 15,
     "metadata": {},
     "output_type": "execute_result"
    }
   ],
   "source": [
    "logits.shape, tokens.shape"
   ]
  },
  {
   "cell_type": "markdown",
   "metadata": {},
   "source": [
    "## Interpreting\n",
    "\n",
    "The names of all the hooks and their corresponding meanings in a language model's architecture are available [here](https://raw.githubusercontent.com/callummcdougall/computational-thread-art/master/example_images/misc/full-merm.svg)."
   ]
  },
  {
   "cell_type": "code",
   "execution_count": 14,
   "metadata": {},
   "outputs": [
    {
     "data": {
      "text/plain": [
       "dict_keys(['hook_embed', 'hook_pos_embed', 'blocks.0.hook_resid_pre', 'blocks.0.ln1.hook_scale', 'blocks.0.ln1.hook_normalized', 'blocks.0.attn.hook_q', 'blocks.0.attn.hook_k', 'blocks.0.attn.hook_v', 'blocks.0.attn.hook_attn_scores', 'blocks.0.attn.hook_pattern', 'blocks.0.attn.hook_z', 'blocks.0.hook_attn_out', 'blocks.0.hook_resid_mid', 'blocks.0.ln2.hook_scale', 'blocks.0.ln2.hook_normalized', 'blocks.0.mlp.hook_pre', 'blocks.0.mlp.hook_post', 'blocks.0.hook_mlp_out', 'blocks.0.hook_resid_post', 'blocks.1.hook_resid_pre', 'blocks.1.ln1.hook_scale', 'blocks.1.ln1.hook_normalized', 'blocks.1.attn.hook_q', 'blocks.1.attn.hook_k', 'blocks.1.attn.hook_v', 'blocks.1.attn.hook_attn_scores', 'blocks.1.attn.hook_pattern', 'blocks.1.attn.hook_z', 'blocks.1.hook_attn_out', 'blocks.1.hook_resid_mid', 'blocks.1.ln2.hook_scale', 'blocks.1.ln2.hook_normalized', 'blocks.1.mlp.hook_pre', 'blocks.1.mlp.hook_post', 'blocks.1.hook_mlp_out', 'blocks.1.hook_resid_post', 'ln_final.hook_scale', 'ln_final.hook_normalized'])"
      ]
     },
     "execution_count": 14,
     "metadata": {},
     "output_type": "execute_result"
    }
   ],
   "source": [
    "cache.keys()"
   ]
  },
  {
   "cell_type": "code",
   "execution_count": 16,
   "metadata": {},
   "outputs": [
    {
     "name": "stdout",
     "output_type": "stream",
     "text": [
      "                 blocks.1.hook_resid_pre => torch.Size([32, 128])\n",
      "                 blocks.1.ln1.hook_scale => torch.Size([32, 1])\n",
      "            blocks.1.ln1.hook_normalized => torch.Size([32, 128])\n",
      "                    blocks.1.attn.hook_q => torch.Size([32, 1, 128])\n",
      "                    blocks.1.attn.hook_k => torch.Size([32, 1, 128])\n",
      "                    blocks.1.attn.hook_v => torch.Size([32, 1, 128])\n",
      "          blocks.1.attn.hook_attn_scores => torch.Size([1, 32, 32])\n",
      "              blocks.1.attn.hook_pattern => torch.Size([1, 32, 32])\n",
      "                    blocks.1.attn.hook_z => torch.Size([32, 1, 128])\n",
      "                  blocks.1.hook_attn_out => torch.Size([32, 128])\n",
      "                 blocks.1.hook_resid_mid => torch.Size([32, 128])\n",
      "                 blocks.1.ln2.hook_scale => torch.Size([32, 1])\n",
      "            blocks.1.ln2.hook_normalized => torch.Size([32, 128])\n",
      "                   blocks.1.mlp.hook_pre => torch.Size([32, 512])\n",
      "                  blocks.1.mlp.hook_post => torch.Size([32, 512])\n",
      "                   blocks.1.hook_mlp_out => torch.Size([32, 128])\n",
      "                blocks.1.hook_resid_post => torch.Size([32, 128])\n"
     ]
    }
   ],
   "source": [
    "for key in cache.keys():\n",
    "    if 'blocks.1' in key:\n",
    "        print(f'{key:>40} => {cache[key].shape}')"
   ]
  },
  {
   "cell_type": "code",
   "execution_count": 20,
   "metadata": {},
   "outputs": [
    {
     "data": {
      "text/plain": [
       "False"
      ]
     },
     "execution_count": 20,
     "metadata": {},
     "output_type": "execute_result"
    }
   ],
   "source": [
    "A = cache['blocks.1.hook_resid_pre']\n",
    "B = cache['blocks.0.hook_resid_post']\n",
    "C = cache['blocks.0.hook_resid_mid']\n",
    "A.equal(B) # True\n",
    "A.equal(C) # false\n",
    "\n",
    "# Conclusion: blocks.(k).hook_resid_pre = blocks.(k-1).hook_resid_post"
   ]
  },
  {
   "cell_type": "markdown",
   "metadata": {},
   "source": [
    "## Attention Visualization Using Hook"
   ]
  },
  {
   "cell_type": "code",
   "execution_count": 17,
   "metadata": {},
   "outputs": [],
   "source": [
    "# create a tensor to store what you want to visualize (or use to replace with in case of patching)\n",
    "# here, we create a tensor to store attention patterns\n",
    "attention_pattern_store = t.zeros(\n",
    "    (\n",
    "        model.cfg.n_layers, \n",
    "        model.cfg.n_heads,\n",
    "        tokens.shape[1], \n",
    "        tokens.shape[1]\n",
    "    ), \n",
    "    device=model.cfg.device\n",
    ")"
   ]
  },
  {
   "cell_type": "code",
   "execution_count": 18,
   "metadata": {},
   "outputs": [
    {
     "data": {
      "text/plain": [
       "torch.Size([2, 1, 32, 32])"
      ]
     },
     "execution_count": 18,
     "metadata": {},
     "output_type": "execute_result"
    }
   ],
   "source": [
    "attention_pattern_store.shape"
   ]
  },
  {
   "cell_type": "code",
   "execution_count": 19,
   "metadata": {},
   "outputs": [],
   "source": [
    "# filter for the hook you want to visualize (or edit in case of patching)\n",
    "\n",
    "def pattern_filter(name: str) -> bool:\n",
    "    '''\n",
    "    Returns True if the name is a pattern hook name.\n",
    "    '''\n",
    "    return name.endswith(\"pattern\")"
   ]
  },
  {
   "cell_type": "code",
   "execution_count": 20,
   "metadata": {},
   "outputs": [],
   "source": [
    "# step 3: write a function that does the reading for visualization (or writing in case of patching)\n",
    "\n",
    "def attention_pattern_storing_function(\n",
    "    pattern: Float[Tensor, \"batch head_index dest_pos source_pos\"], # (batch_size, n_heads, seq_len, seq_len)\n",
    "    hook: HookPoint,\n",
    "    ):\n",
    "    '''\n",
    "    Stores the attention pattern in the `attention_pattern_store` tensor for each layer and head.\n",
    "    '''\n",
    "\n",
    "    global attention_pattern_store # (n_layers, n_heads, seq_len, seq_len)\n",
    "    \n",
    "    # get layer index from hook name\n",
    "    layer_index = int(hook.name.split(\".\")[1])\n",
    "\n",
    "    # store the pattern in the store (or replace the pattern with something else in case of patching)\n",
    "    attention_pattern_store[layer_index] = pattern"
   ]
  },
  {
   "cell_type": "code",
   "execution_count": 21,
   "metadata": {},
   "outputs": [],
   "source": [
    "# step 4: run the model with the hook\n",
    "\n",
    "model.run_with_hooks(\n",
    "    tokens,\n",
    "    return_type=None,\n",
    "    fwd_hooks=[(\n",
    "        pattern_filter,\n",
    "        attention_pattern_storing_function,\n",
    "    )],\n",
    ")"
   ]
  },
  {
   "cell_type": "code",
   "execution_count": 22,
   "metadata": {},
   "outputs": [
    {
     "name": "stdout",
     "output_type": "stream",
     "text": [
      "<|startoftext|> | P9 | has | O15 | , | O14 | , | O29 | . | P6 | has | O24 | , | O6 | , | O20 | . | P2 | has | O7 | , | O5 | . | Who | has | object | O7 | ? | Answer | : | P2 | . | "
     ]
    }
   ],
   "source": [
    "for token in str_tokens:\n",
    "    print(token, end=\" | \")"
   ]
  },
  {
   "cell_type": "code",
   "execution_count": 25,
   "metadata": {},
   "outputs": [
    {
     "name": "stdout",
     "output_type": "stream",
     "text": [
      "Layer 0 Attention Patterns\n"
     ]
    },
    {
     "ename": "TypeError",
     "evalue": "attention_patterns() got an unexpected keyword argument 'show_axis_labels'",
     "output_type": "error",
     "traceback": [
      "\u001b[0;31m---------------------------------------------------------------------------\u001b[0m",
      "\u001b[0;31mTypeError\u001b[0m                                 Traceback (most recent call last)",
      "Cell \u001b[0;32mIn[25], line 3\u001b[0m\n\u001b[1;32m      1\u001b[0m \u001b[38;5;28;01mfor\u001b[39;00m layer_index \u001b[38;5;129;01min\u001b[39;00m [\u001b[38;5;241m0\u001b[39m, \u001b[38;5;241m1\u001b[39m]:\n\u001b[1;32m      2\u001b[0m     \u001b[38;5;28mprint\u001b[39m(\u001b[38;5;124mf\u001b[39m\u001b[38;5;124m\"\u001b[39m\u001b[38;5;124mLayer \u001b[39m\u001b[38;5;132;01m{\u001b[39;00mlayer_index\u001b[38;5;132;01m}\u001b[39;00m\u001b[38;5;124m Attention Patterns\u001b[39m\u001b[38;5;124m\"\u001b[39m)\n\u001b[0;32m----> 3\u001b[0m     display(\u001b[43mcv\u001b[49m\u001b[38;5;241;43m.\u001b[39;49m\u001b[43mattention\u001b[49m\u001b[38;5;241;43m.\u001b[39;49m\u001b[43mattention_patterns\u001b[49m\u001b[43m(\u001b[49m\u001b[43mshow_axis_labels\u001b[49m\u001b[38;5;241;43m=\u001b[39;49m\u001b[38;5;28;43;01mTrue\u001b[39;49;00m\u001b[43m,\u001b[49m\u001b[43m \u001b[49m\u001b[43mtokens\u001b[49m\u001b[38;5;241;43m=\u001b[39;49m\u001b[43mstr_tokens\u001b[49m\u001b[43m,\u001b[49m\u001b[43m \u001b[49m\u001b[43mattention\u001b[49m\u001b[38;5;241;43m=\u001b[39;49m\u001b[43mattention_pattern_store\u001b[49m\u001b[43m[\u001b[49m\u001b[43mlayer_index\u001b[49m\u001b[43m]\u001b[49m\u001b[43m,\u001b[49m\u001b[43m \u001b[49m\u001b[43m)\u001b[49m)\n",
      "\u001b[0;31mTypeError\u001b[0m: attention_patterns() got an unexpected keyword argument 'show_axis_labels'"
     ]
    }
   ],
   "source": [
    "for layer_index in [0, 1]:\n",
    "    print(f\"Layer {layer_index} Attention Patterns\")\n",
    "    display(cv.attention.attention_patterns(tokens=str_tokens, attention=attention_pattern_store[layer_index], show_axis_labels=True))"
   ]
  },
  {
   "cell_type": "code",
   "execution_count": 28,
   "metadata": {},
   "outputs": [],
   "source": [
    "model.reset_hooks()"
   ]
  },
  {
   "cell_type": "markdown",
   "metadata": {},
   "source": [
    "## Visualizing full OV/QK circuits / Factored Matrices"
   ]
  },
  {
   "cell_type": "code",
   "execution_count": 37,
   "metadata": {},
   "outputs": [],
   "source": [
    "layer_heads = [\n",
    "    [0, 0],\n",
    "    [1, 0],\n",
    "]"
   ]
  },
  {
   "cell_type": "code",
   "execution_count": 38,
   "metadata": {},
   "outputs": [
    {
     "data": {
      "text/plain": [
       "(torch.Size([2, 1, 128, 128]),\n",
       " torch.Size([2, 1, 128, 128]),\n",
       " torch.Size([2, 1, 128, 128]),\n",
       " torch.Size([2, 1, 128, 128]))"
      ]
     },
     "execution_count": 38,
     "metadata": {},
     "output_type": "execute_result"
    }
   ],
   "source": [
    "model.W_Q.shape, model.W_K.shape, model.W_V.shape, model.W_O.shape"
   ]
  },
  {
   "cell_type": "code",
   "execution_count": 40,
   "metadata": {},
   "outputs": [],
   "source": [
    "# start with size (0, model.cfg.d_model)\n",
    "W_O_concatenated = t.empty((0, model.cfg.d_model), device=model.cfg.device)\n",
    "W_V_concatenated = t.empty((model.cfg.d_model, 0), device=model.cfg.device)\n",
    "\n",
    "for layer, head in layer_heads:\n",
    "    W_O_concatenated = t.cat([W_O_concatenated, model.W_O[layer, head]], dim=0)\n",
    "    W_V_concatenated = t.cat([W_V_concatenated, model.W_V[layer, head]], dim=1)"
   ]
  },
  {
   "cell_type": "code",
   "execution_count": 41,
   "metadata": {},
   "outputs": [
    {
     "data": {
      "text/plain": [
       "(torch.Size([256, 128]), torch.Size([128, 256]))"
      ]
     },
     "execution_count": 41,
     "metadata": {},
     "output_type": "execute_result"
    }
   ],
   "source": [
    "W_O_concatenated.shape, W_V_concatenated.shape"
   ]
  },
  {
   "cell_type": "code",
   "execution_count": 42,
   "metadata": {},
   "outputs": [],
   "source": [
    "W_OV_eff = model.W_E @ FactoredMatrix(W_V_concatenated, W_O_concatenated) @ model.W_U"
   ]
  },
  {
   "cell_type": "code",
   "execution_count": 43,
   "metadata": {},
   "outputs": [
    {
     "data": {
      "text/plain": [
       "(torch.Size([54, 54]), transformer_lens.FactoredMatrix.FactoredMatrix)"
      ]
     },
     "execution_count": 43,
     "metadata": {},
     "output_type": "execute_result"
    }
   ],
   "source": [
    "W_OV_eff.shape, type(W_OV_eff)"
   ]
  },
  {
   "cell_type": "code",
   "execution_count": 44,
   "metadata": {},
   "outputs": [
    {
     "data": {
      "image/png": "[encoded data removed]",
      "text/plain": [
       "<Figure size 2000x1000 with 2 Axes>"
      ]
     },
     "metadata": {},
     "output_type": "display_data"
    }
   ],
   "source": [
    "indices = t.randint(0, model.cfg.d_vocab, (200,))\n",
    "plot_heatmap(\n",
    "    W_OV_eff[indices, indices].AB * 10,\n",
    "    labels=[\n",
    "        [f\"Input token {i}\" for i in range(len(indices))], \n",
    "        [f\"Logit output {i}\" for i in range(len(indices))]\n",
    "        ],\n",
    "    title=\"Effective Direct-path OV Circuit for all strong Induction Heads\",\n",
    "    sizex=20,\n",
    "    sizey=10,\n",
    "    show_values=False,\n",
    "    show_labels=False,\n",
    "    auto_limits=True,\n",
    "    save=None,\n",
    "    )"
   ]
  },
  {
   "cell_type": "markdown",
   "metadata": {},
   "source": [
    "Happy interpreting, all the best!"
   ]
  },
  {
   "cell_type": "markdown",
   "metadata": {},
   "source": [
    "## Head Detectors - Using the Cache"
   ]
  },
  {
   "cell_type": "code",
   "execution_count": 45,
   "metadata": {},
   "outputs": [],
   "source": [
    "def prev_attn_detector(cache: ActivationCache) -> List[str]:\n",
    "    '''\n",
    "    Returns a list e.g. [\"0.2\", \"1.4\", \"1.9\"] of \"layer.head\" which appear to be previous-token heads\n",
    "    '''\n",
    "    attn_heads = []\n",
    "    for layer in range(model.cfg.n_layers):\n",
    "        for head in range(model.cfg.n_heads):\n",
    "            attention_pattern = cache[\"pattern\", layer][head]\n",
    "            # take avg of sub-diagonal elements\n",
    "            score = attention_pattern.diagonal(-1).mean()\n",
    "            if score > 0.5:\n",
    "                attn_heads.append(f\"{layer}.{head}\")\n",
    "    return attn_heads"
   ]
  },
  {
   "cell_type": "code",
   "execution_count": 47,
   "metadata": {},
   "outputs": [
    {
     "name": "stdout",
     "output_type": "stream",
     "text": [
      "Heads attending to previous token =  \n"
     ]
    }
   ],
   "source": [
    "print(\"Heads attending to previous token = \", \", \".join(prev_attn_detector(cache)))"
   ]
  },
  {
   "cell_type": "code",
   "execution_count": null,
   "metadata": {},
   "outputs": [],
   "source": []
  }
 ],
 "metadata": {
  "kernelspec": {
   "display_name": "mech_interp",
   "language": "python",
   "name": "python3"
  },
  "language_info": {
   "codemirror_mode": {
    "name": "ipython",
    "version": 3
   },
   "file_extension": ".py",
   "mimetype": "text/x-python",
   "name": "python",
   "nbconvert_exporter": "python",
   "pygments_lexer": "ipython3",
   "version": "3.8.12"
  }
 },
 "nbformat": 4,
 "nbformat_minor": 2
}
